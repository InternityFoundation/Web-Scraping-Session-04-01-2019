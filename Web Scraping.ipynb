{
 "cells": [
  {
   "cell_type": "markdown",
   "metadata": {
    "heading_collapsed": true
   },
   "source": [
    "# About Me"
   ]
  },
  {
   "cell_type": "markdown",
   "metadata": {
    "hidden": true
   },
   "source": [
    "I'm Vibhu Agarwal, a 2nd year U.G. studying in Jaypee Institute of Information Technology, Noida.  \n",
    "My primary field of interests has been Web Development, Desktop Applications Dev & Web Scraping.\n",
    "\n",
    "Also, I'm a Harry Potter fanatic. Anyone with an interesting fanfic can ping me ;)"
   ]
  },
  {
   "cell_type": "markdown",
   "metadata": {
    "heading_collapsed": true
   },
   "source": [
    "# Ways to Scrape Data"
   ]
  },
  {
   "cell_type": "markdown",
   "metadata": {
    "hidden": true
   },
   "source": [
    "- API Calling\n",
    "- Web Scraping"
   ]
  },
  {
   "cell_type": "markdown",
   "metadata": {
    "heading_collapsed": true
   },
   "source": [
    "# APIs"
   ]
  },
  {
   "cell_type": "markdown",
   "metadata": {
    "heading_collapsed": true,
    "hidden": true
   },
   "source": [
    "## Definition"
   ]
  },
  {
   "cell_type": "markdown",
   "metadata": {
    "hidden": true
   },
   "source": [
    "***In computer programming, an application programming interface (API) is a set of subroutine definitions, communication protocols, and tools for building software.***"
   ]
  },
  {
   "cell_type": "markdown",
   "metadata": {
    "heading_collapsed": true,
    "hidden": true
   },
   "source": [
    "## How we go about using APIs"
   ]
  },
  {
   "cell_type": "markdown",
   "metadata": {
    "hidden": true
   },
   "source": [
    "- Visit the website\n",
    "- Look if it offers APIs for their data or not"
   ]
  },
  {
   "cell_type": "markdown",
   "metadata": {
    "heading_collapsed": true,
    "hidden": true
   },
   "source": [
    "### Case 1: They don't\n",
    "\n"
   ]
  },
  {
   "cell_type": "markdown",
   "metadata": {
    "hidden": true
   },
   "source": [
    "**BAD LUCK!!!**"
   ]
  },
  {
   "cell_type": "markdown",
   "metadata": {
    "heading_collapsed": true,
    "hidden": true
   },
   "source": [
    "### Case 2: They do"
   ]
  },
  {
   "cell_type": "markdown",
   "metadata": {
    "hidden": true
   },
   "source": [
    "- Look for the (specific) defined procedures as explained in their docs\n",
    "- Note down the API endpoints (Basically, URLs)\n",
    "- Now hit them, really."
   ]
  },
  {
   "cell_type": "markdown",
   "metadata": {
    "heading_collapsed": true,
    "hidden": true
   },
   "source": [
    "#### The limitations\n",
    "- Need to create developer accounts and get the keys [wherever necessary]"
   ]
  },
  {
   "cell_type": "markdown",
   "metadata": {
    "heading_collapsed": true,
    "hidden": true
   },
   "source": [
    "## Hitting the APIs"
   ]
  },
  {
   "cell_type": "markdown",
   "metadata": {
    "heading_collapsed": true,
    "hidden": true
   },
   "source": [
    "### Website"
   ]
  },
  {
   "cell_type": "markdown",
   "metadata": {
    "hidden": true
   },
   "source": [
    "**Github - https://api.github.com**  \n",
    "**Stack Exchange  - https://api.stackexchange.com/**"
   ]
  },
  {
   "cell_type": "markdown",
   "metadata": {
    "heading_collapsed": true,
    "hidden": true
   },
   "source": [
    "### Query Parameters"
   ]
  },
  {
   "cell_type": "markdown",
   "metadata": {
    "heading_collapsed": true,
    "hidden": true
   },
   "source": [
    "#### Through URLs itself"
   ]
  },
  {
   "cell_type": "markdown",
   "metadata": {
    "ExecuteTime": {
     "end_time": "2019-01-03T17:11:29.189362Z",
     "start_time": "2019-01-03T17:11:29.179927Z"
    },
    "hidden": true
   },
   "source": [
    "?query1=value1&query2=value2"
   ]
  },
  {
   "cell_type": "markdown",
   "metadata": {
    "ExecuteTime": {
     "end_time": "2019-01-03T17:12:04.574431Z",
     "start_time": "2019-01-03T17:12:04.568524Z"
    },
    "hidden": true
   },
   "source": [
    "**https://api.github.com/users/Vibhu-Agarwal/repos**"
   ]
  },
  {
   "cell_type": "markdown",
   "metadata": {
    "hidden": true
   },
   "source": [
    "**https://api.github.com/users/Vibhu-Agarwal/repos?sort=pushed**"
   ]
  },
  {
   "cell_type": "markdown",
   "metadata": {
    "heading_collapsed": true,
    "hidden": true
   },
   "source": [
    "#### In Python - as a dictionary"
   ]
  },
  {
   "cell_type": "code",
   "execution_count": null,
   "metadata": {
    "ExecuteTime": {
     "end_time": "2019-01-03T17:36:29.924200Z",
     "start_time": "2019-01-03T17:36:27.665628Z"
    },
    "hidden": true
   },
   "outputs": [],
   "source": [
    "parameters = {\n",
    "    'query1':'value1',\n",
    "    'query2':'value2'\n",
    "}\n",
    "response = requests.get('https://httpbin.org/get', params=parameters)\n",
    "\n",
    "print(response)\n",
    "print(response.text)"
   ]
  },
  {
   "cell_type": "markdown",
   "metadata": {
    "heading_collapsed": true,
    "hidden": true
   },
   "source": [
    "### Different Ways"
   ]
  },
  {
   "cell_type": "markdown",
   "metadata": {
    "heading_collapsed": true,
    "hidden": true
   },
   "source": [
    "#### Curl"
   ]
  },
  {
   "cell_type": "code",
   "execution_count": null,
   "metadata": {
    "ExecuteTime": {
     "end_time": "2019-01-03T17:23:33.763274Z",
     "start_time": "2019-01-03T17:23:31.394654Z"
    },
    "hidden": true
   },
   "outputs": [],
   "source": [
    "! curl https://api.github.com"
   ]
  },
  {
   "cell_type": "markdown",
   "metadata": {
    "heading_collapsed": true,
    "hidden": true
   },
   "source": [
    "#### Different Languages"
   ]
  },
  {
   "cell_type": "markdown",
   "metadata": {
    "hidden": true
   },
   "source": [
    "**Python**"
   ]
  },
  {
   "cell_type": "code",
   "execution_count": null,
   "metadata": {
    "ExecuteTime": {
     "end_time": "2019-01-03T17:30:05.134080Z",
     "start_time": "2019-01-03T17:30:02.956673Z"
    },
    "hidden": true
   },
   "outputs": [],
   "source": [
    "import requests\n",
    "response = requests.get('https://api.github.com')\n",
    "\n",
    "print(responsee)\n",
    "print(response.text)"
   ]
  },
  {
   "cell_type": "markdown",
   "metadata": {
    "heading_collapsed": true
   },
   "source": [
    "# Web Scraping"
   ]
  },
  {
   "cell_type": "markdown",
   "metadata": {
    "heading_collapsed": true,
    "hidden": true
   },
   "source": [
    "## Definition"
   ]
  },
  {
   "cell_type": "markdown",
   "metadata": {
    "hidden": true
   },
   "source": [
    "***Web scraping, web harvesting, or web data extraction is data scraping used for extracting data from websites.***"
   ]
  },
  {
   "cell_type": "markdown",
   "metadata": {
    "heading_collapsed": true,
    "hidden": true
   },
   "source": [
    "## How we go about Web Scraping"
   ]
  },
  {
   "cell_type": "markdown",
   "metadata": {
    "hidden": true
   },
   "source": [
    "- Visit the website\n",
    "- Always carefully look at the URLs\n",
    "- Look for the data\n",
    "- Identify sections from where you want to scrape data\n",
    "- See its (HTML) code\n",
    "- Try to look for patterns\n",
    "- Apply simple logic"
   ]
  },
  {
   "cell_type": "markdown",
   "metadata": {
    "heading_collapsed": true,
    "hidden": true
   },
   "source": [
    "## Prerequisites"
   ]
  },
  {
   "cell_type": "markdown",
   "metadata": {
    "hidden": true
   },
   "source": [
    "- **HTML**\n",
    "- **Python**"
   ]
  },
  {
   "cell_type": "markdown",
   "metadata": {
    "heading_collapsed": true,
    "hidden": true
   },
   "source": [
    "## Get your hands dirty"
   ]
  },
  {
   "cell_type": "markdown",
   "metadata": {
    "heading_collapsed": true,
    "hidden": true
   },
   "source": [
    "### Install Necessary Modules"
   ]
  },
  {
   "cell_type": "markdown",
   "metadata": {
    "hidden": true
   },
   "source": [
    "```\n",
    "bs4\n",
    "requests\n",
    "lxml\n",
    "```"
   ]
  },
  {
   "cell_type": "markdown",
   "metadata": {
    "heading_collapsed": true,
    "hidden": true
   },
   "source": [
    "### Import"
   ]
  },
  {
   "cell_type": "code",
   "execution_count": null,
   "metadata": {
    "ExecuteTime": {
     "end_time": "2019-01-03T16:32:10.279296Z",
     "start_time": "2019-01-03T16:32:10.102213Z"
    },
    "hidden": true
   },
   "outputs": [],
   "source": [
    "import requests\n",
    "from bs4 import BeautifulSoup\n",
    "from pprint import pprint"
   ]
  },
  {
   "cell_type": "markdown",
   "metadata": {
    "heading_collapsed": true,
    "hidden": true
   },
   "source": [
    "### Define URL"
   ]
  },
  {
   "cell_type": "code",
   "execution_count": null,
   "metadata": {
    "ExecuteTime": {
     "end_time": "2019-01-03T16:32:42.038800Z",
     "start_time": "2019-01-03T16:32:42.033981Z"
    },
    "hidden": true
   },
   "outputs": [],
   "source": [
    "url = \"https://internityfoundation.wordpress.com/\""
   ]
  },
  {
   "cell_type": "markdown",
   "metadata": {
    "heading_collapsed": true,
    "hidden": true
   },
   "source": [
    "### Get response"
   ]
  },
  {
   "cell_type": "code",
   "execution_count": null,
   "metadata": {
    "ExecuteTime": {
     "end_time": "2019-01-03T16:33:22.909119Z",
     "start_time": "2019-01-03T16:33:21.779717Z"
    },
    "hidden": true
   },
   "outputs": [],
   "source": [
    "response = requests.get(url)\n",
    "#response\n",
    "#response.text"
   ]
  },
  {
   "cell_type": "markdown",
   "metadata": {
    "heading_collapsed": true,
    "hidden": true
   },
   "source": [
    "### Create Soup Object"
   ]
  },
  {
   "cell_type": "code",
   "execution_count": null,
   "metadata": {
    "ExecuteTime": {
     "end_time": "2019-01-03T16:34:05.740245Z",
     "start_time": "2019-01-03T16:34:05.707397Z"
    },
    "hidden": true
   },
   "outputs": [],
   "source": [
    "soup = BeautifulSoup(response.text, 'lxml')\n",
    "#soup"
   ]
  },
  {
   "cell_type": "markdown",
   "metadata": {
    "heading_collapsed": true,
    "hidden": true
   },
   "source": [
    "### Which Data Structure?"
   ]
  },
  {
   "cell_type": "code",
   "execution_count": null,
   "metadata": {
    "ExecuteTime": {
     "end_time": "2019-01-03T16:34:19.805705Z",
     "start_time": "2019-01-03T16:34:19.797158Z"
    },
    "hidden": true
   },
   "outputs": [],
   "source": [
    "internity_blogs = [] #List of Dictionaries"
   ]
  },
  {
   "cell_type": "markdown",
   "metadata": {
    "heading_collapsed": true,
    "hidden": true
   },
   "source": [
    "### Extract Data"
   ]
  },
  {
   "cell_type": "code",
   "execution_count": null,
   "metadata": {
    "ExecuteTime": {
     "end_time": "2019-01-03T16:35:32.108422Z",
     "start_time": "2019-01-03T16:35:32.079632Z"
    },
    "code_folding": [],
    "hidden": true
   },
   "outputs": [],
   "source": [
    "entry_wrapper_divs = soup.find_all('div',\n",
    "                              {'class':'entry-wrapper'})\n",
    "\n",
    "for ew_div in entry_wrapper_divs:\n",
    "    \n",
    "    blog = {}\n",
    "    \n",
    "    blog['heading'] = ew_div.find('h1').text\n",
    "    \n",
    "    blog['author'] = ew_div.find('span', 'byline').text[3:]\n",
    "    \n",
    "    date_span = ew_div.find('span', 'posted-on')\n",
    "    \n",
    "    blog['date'] = date_span.find('time',\n",
    "                    {'class':'updated'}).text\n",
    "    \n",
    "    content_div = ew_div.find('div',\n",
    "                             {'class':\"entry-content\"})\n",
    "    \n",
    "    p_tags = content_div.find_all('p')\n",
    "    \n",
    "    blog['sample_content'] = p_tags[0].text.strip()\n",
    "    \n",
    "    blog['link_to_content'] = p_tags[1].find('a')['href']\n",
    "    \n",
    "    internity_blogs.append(blog)"
   ]
  },
  {
   "cell_type": "code",
   "execution_count": null,
   "metadata": {
    "ExecuteTime": {
     "end_time": "2019-01-03T16:36:08.282192Z",
     "start_time": "2019-01-03T16:36:08.278113Z"
    },
    "hidden": true
   },
   "outputs": [],
   "source": [
    "#internity_blogs"
   ]
  },
  {
   "cell_type": "markdown",
   "metadata": {
    "heading_collapsed": true
   },
   "source": [
    "# Comparison to APIs"
   ]
  },
  {
   "cell_type": "markdown",
   "metadata": {
    "heading_collapsed": true,
    "hidden": true
   },
   "source": [
    "## Disadvantages"
   ]
  },
  {
   "cell_type": "markdown",
   "metadata": {
    "ExecuteTime": {
     "end_time": "2019-01-02T20:11:22.722822Z",
     "start_time": "2019-01-02T20:11:22.714314Z"
    },
    "hidden": true
   },
   "source": [
    "- Highly Unstable; Maintenance Problem\n",
    "- APIs are easy to use"
   ]
  },
  {
   "cell_type": "markdown",
   "metadata": {
    "heading_collapsed": true,
    "hidden": true
   },
   "source": [
    "## Advantages"
   ]
  },
  {
   "cell_type": "markdown",
   "metadata": {
    "hidden": true
   },
   "source": [
    "- Limited Rate of API calling\n",
    "- Does not depend on any feature provided by the website maintainer/developer"
   ]
  },
  {
   "cell_type": "markdown",
   "metadata": {
    "heading_collapsed": true
   },
   "source": [
    "# Links"
   ]
  },
  {
   "cell_type": "markdown",
   "metadata": {
    "hidden": true
   },
   "source": [
    "- My Github Link - **https://github.com/Vibhu-Agarwal**\n",
    "- Internity Github - **https://github.com/InternityFoundation**\n",
    "- Internity Blogs - **https://internityfoundation.wordpress.com/**\n",
    "- Link to this Notebook - **https://github.com/InternityFoundation/Web-Scraping-Session-04-01-2019**"
   ]
  }
 ],
 "metadata": {
  "gist": {
   "data": {
    "description": "Web Scraping Session 04-01-2019.ipynb",
    "public": false
   },
   "id": ""
  },
  "kernelspec": {
   "display_name": "Python 3",
   "language": "python",
   "name": "python3"
  },
  "language_info": {
   "codemirror_mode": {
    "name": "ipython",
    "version": 3
   },
   "file_extension": ".py",
   "mimetype": "text/x-python",
   "name": "python",
   "nbconvert_exporter": "python",
   "pygments_lexer": "ipython3",
   "version": "3.7.1"
  },
  "varInspector": {
   "cols": {
    "lenName": 16,
    "lenType": 16,
    "lenVar": 40
   },
   "kernels_config": {
    "python": {
     "delete_cmd_postfix": "",
     "delete_cmd_prefix": "del ",
     "library": "var_list.py",
     "varRefreshCmd": "print(var_dic_list())"
    },
    "r": {
     "delete_cmd_postfix": ") ",
     "delete_cmd_prefix": "rm(",
     "library": "var_list.r",
     "varRefreshCmd": "cat(var_dic_list()) "
    }
   },
   "types_to_exclude": [
    "module",
    "function",
    "builtin_function_or_method",
    "instance",
    "_Feature"
   ],
   "window_display": false
  }
 },
 "nbformat": 4,
 "nbformat_minor": 2
}
